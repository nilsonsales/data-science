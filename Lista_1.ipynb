{
  "nbformat": 4,
  "nbformat_minor": 0,
  "metadata": {
    "colab": {
      "name": "Lista 1 - Ciencia de Dados.ipynb",
      "provenance": []
    },
    "kernelspec": {
      "name": "python3",
      "display_name": "Python 3"
    },
    "language_info": {
      "name": "python"
    }
  },
  "cells": [
    {
      "cell_type": "markdown",
      "metadata": {
        "id": "sJ0zPxxspXJ6"
      },
      "source": [
        "# Ciência de Dados - Lista 1\n",
        "\n",
        "Aluno: Nilson Sales de Carvalho\n",
        "\n",
        "\n"
      ]
    },
    {
      "cell_type": "markdown",
      "metadata": {
        "id": "rL8mL6K9llci"
      },
      "source": [
        "#### 4. Crie um conjunto de dados com duas variáveis V1 e V2, tal que:\n",
        "- Mediana de V1 < Média de V1 (0,5 ponto)"
      ]
    },
    {
      "cell_type": "code",
      "metadata": {
        "id": "NPl46kOppU_k"
      },
      "source": [
        "import numpy as np\n",
        "import matplotlib.pyplot as plt"
      ],
      "execution_count": null,
      "outputs": []
    },
    {
      "cell_type": "code",
      "metadata": {
        "colab": {
          "base_uri": "https://localhost:8080/"
        },
        "id": "wscm8UONX-Ad",
        "outputId": "282308d7-0a43-4702-c459-ed578eddf59d"
      },
      "source": [
        "x1 = np.random.normal(0,1,500)\n",
        "x2 = np.random.normal(-1,0.5,500)\n",
        "\n",
        "v1 = np.concatenate((x1,x2))\n",
        "\n",
        "print(\"Mean = \", np.mean(v1))\n",
        "print(\"Median = \", np.median(v1))"
      ],
      "execution_count": null,
      "outputs": [
        {
          "output_type": "stream",
          "text": [
            "Mean =  -0.475465356012151\n",
            "Median =  -0.6278641298405099\n"
          ],
          "name": "stdout"
        }
      ]
    },
    {
      "cell_type": "markdown",
      "metadata": {
        "id": "sxxlVMF_r7me"
      },
      "source": [
        "- Mediana de V2 > Média de V2 (0,5 ponto)"
      ]
    },
    {
      "cell_type": "code",
      "metadata": {
        "colab": {
          "base_uri": "https://localhost:8080/"
        },
        "id": "Lc_t3jQwr8E8",
        "outputId": "061347ee-37b3-473e-88d3-04125564ca1b"
      },
      "source": [
        "x1 = np.random.normal(0,1,500)\n",
        "x2 = np.random.normal(1,0.5,500)\n",
        "\n",
        "v2 = np.concatenate((x1,x2))\n",
        "\n",
        "print(\"Mean = \", np.mean(v2))\n",
        "print(\"Median = \", np.median(v2))"
      ],
      "execution_count": null,
      "outputs": [
        {
          "output_type": "stream",
          "text": [
            "Mean =  0.5432849210739729\n",
            "Median =  0.6972180547227772\n"
          ],
          "name": "stdout"
        }
      ]
    },
    {
      "cell_type": "markdown",
      "metadata": {
        "id": "ar_qeA6RscTQ"
      },
      "source": [
        "\n",
        "#### 5. Baseando-se no conjunto de dados criado na questão 4, crie uma função em Python que:\n",
        "- Mostra o histograma de cada variável; (1 ponto)\n"
      ]
    },
    {
      "cell_type": "code",
      "metadata": {
        "id": "YgKWfhajsiMv"
      },
      "source": [
        "def plot_hist(v1, v2, label1=None, label2=None):\n",
        "  n, bins, ignored = plt.hist(v1, 50, density=True, alpha=0.6, label=label1)\n",
        "  n, bins, ignored = plt.hist(v2, 50, density=True, alpha=0.6, label=label2)\n",
        "  plt.title(\"Histogram\")\n",
        "  plt.legend(loc='upper right')\n",
        "  plt.show()\n"
      ],
      "execution_count": null,
      "outputs": []
    },
    {
      "cell_type": "code",
      "metadata": {
        "colab": {
          "base_uri": "https://localhost:8080/",
          "height": 281
        },
        "id": "FI5fKOPiav5E",
        "outputId": "b6081e4d-eab6-456f-dcfd-58433404ed17"
      },
      "source": [
        "plot_hist(v1, v2, \"V1\", \"V2\")"
      ],
      "execution_count": null,
      "outputs": [
        {
          "output_type": "display_data",
          "data": {
            "image/png": "[encoded data removed]",
            "text/plain": [
              "<Figure size 432x288 with 1 Axes>"
            ]
          },
          "metadata": {
            "tags": [],
            "needs_background": "light"
          }
        }
      ]
    },
    {
      "cell_type": "markdown",
      "metadata": {
        "id": "oQjjQyDDbTFu"
      },
      "source": [
        "- Verifica se as variáveis seguem uma distribuição Normal (use teste\n",
        "de hipótese) (1 ponto)\n"
      ]
    },
    {
      "cell_type": "code",
      "metadata": {
        "id": "8Oyh-sRpbyQf"
      },
      "source": [
        "# Q-Q plot\n",
        "from scipy.stats import normaltest\n",
        "import scipy.stats as stats\n",
        "\n",
        "def test_normal(x, qq_plot=False):\n",
        "  if x.size < 30:\n",
        "    print(\"Sample size too small\")\n",
        "    return False\n",
        "\n",
        "  alpha = 0.05  # significância, para 95% de confiança\n",
        "  stat_test, p_value = normaltest(x)\n",
        "\n",
        "  print(\"p-value = \", p_value)\n",
        "\n",
        "  if (qq_plot==True):\n",
        "    from statsmodels.graphics.gofplots import qqplot\n",
        "    qqplot_data = qqplot( x , line ='s').gca().lines\n",
        "    plt.show()\n",
        "\n",
        "  if (p_value <= alpha):\n",
        "    print(\"Not normal\")\n",
        "    return False\n",
        "  else:\n",
        "    print(\"Normal distribution\")\n",
        "    return True\n"
      ],
      "execution_count": null,
      "outputs": []
    },
    {
      "cell_type": "code",
      "metadata": {
        "colab": {
          "base_uri": "https://localhost:8080/",
          "height": 390
        },
        "id": "-K4Y22jRgwSK",
        "outputId": "c0e998d5-8e8b-41ce-9f14-276af6821a85"
      },
      "source": [
        "test_normal(v1, qq_plot=True)"
      ],
      "execution_count": null,
      "outputs": [
        {
          "output_type": "stream",
          "text": [
            "p-value =  1.5398897916379827e-11\n"
          ],
          "name": "stdout"
        },
        {
          "output_type": "stream",
          "text": [
            "/usr/local/lib/python3.7/dist-packages/statsmodels/tools/_testing.py:19: FutureWarning: pandas.util.testing is deprecated. Use the functions in the public API at pandas.testing instead.\n",
            "  import pandas.util.testing as tm\n"
          ],
          "name": "stderr"
        },
        {
          "output_type": "display_data",
          "data": {
            "image/png": "[encoded data removed]",
            "text/plain": [
              "<Figure size 432x288 with 1 Axes>"
            ]
          },
          "metadata": {
            "tags": [],
            "needs_background": "light"
          }
        },
        {
          "output_type": "stream",
          "text": [
            "Not normal\n"
          ],
          "name": "stdout"
        },
        {
          "output_type": "execute_result",
          "data": {
            "text/plain": [
              "False"
            ]
          },
          "metadata": {
            "tags": []
          },
          "execution_count": 7
        }
      ]
    },
    {
      "cell_type": "code",
      "metadata": {
        "colab": {
          "base_uri": "https://localhost:8080/",
          "height": 334
        },
        "id": "PRLkZB-yk9Ri",
        "outputId": "78f60660-0948-4938-dfc4-5fe9e8378b6e"
      },
      "source": [
        "test_normal(v2, qq_plot=True)"
      ],
      "execution_count": null,
      "outputs": [
        {
          "output_type": "stream",
          "text": [
            "p-value =  4.072032741678674e-18\n"
          ],
          "name": "stdout"
        },
        {
          "output_type": "display_data",
          "data": {
            "image/png": "[encoded data removed]",
            "text/plain": [
              "<Figure size 432x288 with 1 Axes>"
            ]
          },
          "metadata": {
            "tags": [],
            "needs_background": "light"
          }
        },
        {
          "output_type": "stream",
          "text": [
            "Not normal\n"
          ],
          "name": "stdout"
        },
        {
          "output_type": "execute_result",
          "data": {
            "text/plain": [
              "False"
            ]
          },
          "metadata": {
            "tags": []
          },
          "execution_count": 8
        }
      ]
    },
    {
      "cell_type": "markdown",
      "metadata": {
        "id": "fVRITp3QaRsb"
      },
      "source": [
        "#### 10.Crie um script em Python que avalie a diferença de desempenho do classificador K-NN para o conjunto de dados Iris (https://archive.ics.uci.edu/ml/datasets/iris). Use F-measure e K-fold cross-validation. (2 pontos)\n"
      ]
    },
    {
      "cell_type": "code",
      "metadata": {
        "colab": {
          "base_uri": "https://localhost:8080/",
          "height": 206
        },
        "id": "ajir0hG0aqlR",
        "outputId": "b0563542-bd27-4b86-b890-cbbc48dfa5c3"
      },
      "source": [
        "import pandas as pd\n",
        "\n",
        "data = \"https://archive.ics.uci.edu/ml/machine-learning-databases/iris/iris.data\"\n",
        "\n",
        "# Assign colum names to the dataset\n",
        "names = ['sepal-length', 'sepal-width', 'petal-length', 'petal-width', 'Class']\n",
        "\n",
        "# Read dataset to pandas dataframe\n",
        "dataset = pd.read_csv(data, names=names)\n",
        "\n",
        "dataset.head()"
      ],
      "execution_count": null,
      "outputs": [
        {
          "output_type": "execute_result",
          "data": {
            "text/html": [
              "<div>\n",
              "<style scoped>\n",
              "    .dataframe tbody tr th:only-of-type {\n",
              "        vertical-align: middle;\n",
              "    }\n",
              "\n",
              "    .dataframe tbody tr th {\n",
              "        vertical-align: top;\n",
              "    }\n",
              "\n",
              "    .dataframe thead th {\n",
              "        text-align: right;\n",
              "    }\n",
              "</style>\n",
              "<table border=\"1\" class=\"dataframe\">\n",
              "  <thead>\n",
              "    <tr style=\"text-align: right;\">\n",
              "      <th></th>\n",
              "      <th>sepal-length</th>\n",
              "      <th>sepal-width</th>\n",
              "      <th>petal-length</th>\n",
              "      <th>petal-width</th>\n",
              "      <th>Class</th>\n",
              "    </tr>\n",
              "  </thead>\n",
              "  <tbody>\n",
              "    <tr>\n",
              "      <th>0</th>\n",
              "      <td>5.1</td>\n",
              "      <td>3.5</td>\n",
              "      <td>1.4</td>\n",
              "      <td>0.2</td>\n",
              "      <td>Iris-setosa</td>\n",
              "    </tr>\n",
              "    <tr>\n",
              "      <th>1</th>\n",
              "      <td>4.9</td>\n",
              "      <td>3.0</td>\n",
              "      <td>1.4</td>\n",
              "      <td>0.2</td>\n",
              "      <td>Iris-setosa</td>\n",
              "    </tr>\n",
              "    <tr>\n",
              "      <th>2</th>\n",
              "      <td>4.7</td>\n",
              "      <td>3.2</td>\n",
              "      <td>1.3</td>\n",
              "      <td>0.2</td>\n",
              "      <td>Iris-setosa</td>\n",
              "    </tr>\n",
              "    <tr>\n",
              "      <th>3</th>\n",
              "      <td>4.6</td>\n",
              "      <td>3.1</td>\n",
              "      <td>1.5</td>\n",
              "      <td>0.2</td>\n",
              "      <td>Iris-setosa</td>\n",
              "    </tr>\n",
              "    <tr>\n",
              "      <th>4</th>\n",
              "      <td>5.0</td>\n",
              "      <td>3.6</td>\n",
              "      <td>1.4</td>\n",
              "      <td>0.2</td>\n",
              "      <td>Iris-setosa</td>\n",
              "    </tr>\n",
              "  </tbody>\n",
              "</table>\n",
              "</div>"
            ],
            "text/plain": [
              "   sepal-length  sepal-width  petal-length  petal-width        Class\n",
              "0           5.1          3.5           1.4          0.2  Iris-setosa\n",
              "1           4.9          3.0           1.4          0.2  Iris-setosa\n",
              "2           4.7          3.2           1.3          0.2  Iris-setosa\n",
              "3           4.6          3.1           1.5          0.2  Iris-setosa\n",
              "4           5.0          3.6           1.4          0.2  Iris-setosa"
            ]
          },
          "metadata": {
            "tags": []
          },
          "execution_count": 9
        }
      ]
    },
    {
      "cell_type": "code",
      "metadata": {
        "colab": {
          "base_uri": "https://localhost:8080/"
        },
        "id": "FJd_RiB1dB8S",
        "outputId": "2671dca6-8ca0-4a0b-ef52-82b4a496280f"
      },
      "source": [
        "# Separating attributes (X) and labels (y)\n",
        "X = dataset.iloc[:, :-1].values\n",
        "y = dataset.iloc[:, 4].values\n",
        "\n",
        "print(X.shape)\n",
        "print(y.shape)"
      ],
      "execution_count": null,
      "outputs": [
        {
          "output_type": "stream",
          "text": [
            "(150, 4)\n",
            "(150,)\n"
          ],
          "name": "stdout"
        }
      ]
    },
    {
      "cell_type": "code",
      "metadata": {
        "colab": {
          "base_uri": "https://localhost:8080/"
        },
        "id": "3DR9MAzqbinx",
        "outputId": "77b69ffd-6dd1-476b-faa6-0de0478cc96d"
      },
      "source": [
        "# Building our model and using K-Fold Cross Validation to evaluate it\n",
        "from sklearn.neighbors import KNeighborsClassifier\n",
        "from sklearn.model_selection import KFold, cross_val_score\n",
        "\n",
        "knn = KNeighborsClassifier(n_neighbors=5)\n",
        "\n",
        "kf = KFold(n_splits=4, shuffle=True)\n",
        "scores = cross_val_score(knn, X, y, cv=kf, scoring='f1_micro')\n",
        "\n",
        "print(scores)\n",
        "print(\"Average F1 score: \", np.mean(scores))"
      ],
      "execution_count": null,
      "outputs": [
        {
          "output_type": "stream",
          "text": [
            "[0.89473684 0.97368421 0.97297297 1.        ]\n",
            "Average F1 score:  0.960348506401138\n"
          ],
          "name": "stdout"
        }
      ]
    }
  ]
}