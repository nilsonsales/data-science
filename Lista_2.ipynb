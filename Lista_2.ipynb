{
  "nbformat": 4,
  "nbformat_minor": 0,
  "metadata": {
    "colab": {
      "name": "Lista 2 - Ciencia de Dados.ipynb",
      "provenance": []
    },
    "kernelspec": {
      "name": "python3",
      "display_name": "Python 3"
    },
    "language_info": {
      "name": "python"
    }
  },
  "cells": [
    {
      "cell_type": "markdown",
      "metadata": {
        "id": "sJ0zPxxspXJ6"
      },
      "source": [
        "# Ciência de Dados - Lista 2\n",
        "\n",
        "Aluno: Nilson Sales de Carvalho\n",
        "\n",
        "\n"
      ]
    },
    {
      "cell_type": "markdown",
      "metadata": {
        "id": "rL8mL6K9llci"
      },
      "source": [
        "#### 6. Usando  técnicas  de  Visualização  de  Dados,  construa  um  gráfico  a  partir  dos seguintes dados: (1 ponto)"
      ]
    },
    {
      "cell_type": "code",
      "metadata": {
        "id": "NPl46kOppU_k"
      },
      "source": [
        "import numpy as np\n",
        "import matplotlib.pyplot as plt"
      ],
      "execution_count": null,
      "outputs": []
    },
    {
      "cell_type": "code",
      "metadata": {
        "colab": {
          "base_uri": "https://localhost:8080/",
          "height": 281
        },
        "id": "3gS0H72Ci9rq",
        "outputId": "53007215-17c3-4f1c-bcae-8c581b252dda"
      },
      "source": [
        "month_names = ['Jan', 'Feb', 'Mar', 'Apr', 'May', 'Jun', 'Jul', 'Aug', 'Sep', 'Oct', 'Nov', 'Dec']\n",
        "months = range(1,13)\n",
        "\n",
        "received = np.array([160, 184, 241, 149, 180, 161, 132, 202, 160, 139, 149, 177])\n",
        "processed = np.array([160, 184, 237, 148, 181, 150, 123, 156, 126, 104, 124, 140])\n",
        "\n",
        "process_rate = (processed/received)*100.0\n",
        "\n",
        "\n",
        "ax = plt.subplot(2,1,1)\n",
        "plt.title(\"Documents received in the year\")\n",
        "plt.bar(months, received, color='#ff9900')\n",
        "plt.bar(months, processed, color='#0066cc')\n",
        "plt.legend([\"Not processed\", \"Processed\"], fontsize='x-small', frameon=False)\n",
        "plt.xticks(months, month_names)\n",
        "plt.grid(color='gray', linestyle='-', linewidth=0.3)\n",
        "# Hide the right and top spines\n",
        "ax.spines['right'].set_visible(False)\n",
        "ax.spines['top'].set_visible(False)\n",
        "\n",
        "\n",
        "ax1 = plt.subplot(2,1,2)\n",
        "plt.plot(months, process_rate)\n",
        "plt.scatter(months, process_rate)\n",
        "plt.ylim(50,105)\n",
        "plt.ylabel(\"% documents processed\", size='8')\n",
        "plt.xticks(months, month_names)\n",
        "plt.grid(color='gray', linestyle='-', linewidth=0.3)\n",
        "# Hide the right and top spines\n",
        "ax1.spines['right'].set_visible(False)\n",
        "ax1.spines['top'].set_visible(False)\n",
        "\n",
        "\n",
        "plt.show()\n"
      ],
      "execution_count": null,
      "outputs": [
        {
          "output_type": "display_data",
          "data": {
            "image/png": "[encoded data removed]",
            "text/plain": [
              "<Figure size 432x288 with 2 Axes>"
            ]
          },
          "metadata": {
            "tags": [],
            "needs_background": "light"
          }
        }
      ]
    },
    {
      "cell_type": "markdown",
      "metadata": {
        "id": "ar_qeA6RscTQ"
      },
      "source": [
        "\n",
        "#### 7. Usando os dados a seguir e um classificador, a qual classe o texto “what do you mean” deveria ser classificado? (2 pontos)\n"
      ]
    },
    {
      "cell_type": "code",
      "metadata": {
        "id": "YgKWfhajsiMv",
        "colab": {
          "base_uri": "https://localhost:8080/"
        },
        "outputId": "6cd7aeee-c865-42fd-ef0d-be9d58c5eccf"
      },
      "source": [
        "text = ['They are novels',\n",
        "        'have you read this book',\n",
        "        'who is the author',\n",
        "        'what are the characters',\n",
        "        'This is how I bought the book',\n",
        "        'I like fictions',\n",
        "        'what is your favourite book',\n",
        "        'This is my book']\n",
        "\n",
        "my_class = np.array(['stmt', 'question', 'question', 'question', 'stmt', 'stmt', 'question', 'stmt'])\n",
        "\n",
        "# use ids for classes\n",
        "class_id = (my_class == 'question').astype('int') # 0 for 'stmt' and 1 for 'question'\n",
        "\n",
        "class_id"
      ],
      "execution_count": null,
      "outputs": [
        {
          "output_type": "execute_result",
          "data": {
            "text/plain": [
              "array([0, 1, 1, 1, 0, 0, 1, 0])"
            ]
          },
          "metadata": {
            "tags": []
          },
          "execution_count": 3
        }
      ]
    },
    {
      "cell_type": "code",
      "metadata": {
        "id": "8Oyh-sRpbyQf",
        "colab": {
          "base_uri": "https://localhost:8080/"
        },
        "outputId": "b01e468b-bd74-4084-92c6-fbcf85a88caa"
      },
      "source": [
        "for i, word in enumerate(text):\n",
        "  # lowercase all words\n",
        "  text[i] = word.lower()\n",
        "\n",
        "text"
      ],
      "execution_count": null,
      "outputs": [
        {
          "output_type": "execute_result",
          "data": {
            "text/plain": [
              "['they are novels',\n",
              " 'have you read this book',\n",
              " 'who is the author',\n",
              " 'what are the characters',\n",
              " 'this is how i bought the book',\n",
              " 'i like fictions',\n",
              " 'what is your favourite book',\n",
              " 'this is my book']"
            ]
          },
          "metadata": {
            "tags": []
          },
          "execution_count": 4
        }
      ]
    },
    {
      "cell_type": "code",
      "metadata": {
        "colab": {
          "base_uri": "https://localhost:8080/"
        },
        "id": "_NKI4IGUEfnA",
        "outputId": "96b5c362-bf3e-41b6-8d36-97142f594abb"
      },
      "source": [
        "from sklearn.feature_extraction.text import CountVectorizer\n",
        "\n",
        "# vectorize tokens\n",
        "# Create a dictionary with the word frequencies\n",
        "count_vec = CountVectorizer()\n",
        "vect = count_vec.fit(text)\n",
        "\n",
        "# Vectorize tokens to a sparse matrix\n",
        "X_vec = vect.transform(text)\n",
        "\n",
        "X_vec.shape"
      ],
      "execution_count": null,
      "outputs": [
        {
          "output_type": "execute_result",
          "data": {
            "text/plain": [
              "(8, 21)"
            ]
          },
          "metadata": {
            "tags": []
          },
          "execution_count": 5
        }
      ]
    },
    {
      "cell_type": "code",
      "metadata": {
        "colab": {
          "base_uri": "https://localhost:8080/"
        },
        "id": "giVthygkNnsZ",
        "outputId": "a776b4fe-0ac7-45ec-bc75-fb328580516b"
      },
      "source": [
        "from sklearn.naive_bayes import MultinomialNB\n",
        "\n",
        "# create classifier\n",
        "bayes = MultinomialNB()\n",
        "\n",
        "# train using all the data\n",
        "bayes = bayes.fit(X_vec, class_id)\n",
        "\n",
        "# transform and classify new text\n",
        "new_text = ['what do you mean']\n",
        "new_vec = count_vec.transform(new_text)\n",
        "\n",
        "predicted = bayes.predict(new_vec)\n",
        "\n",
        "if predicted[0] == 1:\n",
        "  print('question')\n",
        "else:\n",
        "  print('stmt')"
      ],
      "execution_count": null,
      "outputs": [
        {
          "output_type": "stream",
          "text": [
            "question\n"
          ],
          "name": "stdout"
        }
      ]
    },
    {
      "cell_type": "markdown",
      "metadata": {
        "id": "j7_RxiZqTWzf"
      },
      "source": [
        "\n",
        "#### 8. Usando os dados temporais, disponível no link a seguir, sobre vendas de medicamentos na Austrália, que tipo de conclusões podemos obter? (2 pontos)\n",
        "\n",
        "https://github.com/bapimentel/Ciencia-de-Dados/blob/master/Dados/Drugs.csv"
      ]
    },
    {
      "cell_type": "code",
      "metadata": {
        "colab": {
          "base_uri": "https://localhost:8080/",
          "height": 206
        },
        "id": "U5KNjarAThHe",
        "outputId": "ecb8d827-066f-45be-b179-66bca155ace6"
      },
      "source": [
        "import pandas as pd\n",
        "\n",
        "# load and read the data\n",
        "data = pd.read_csv('https://raw.githubusercontent.com/bapimentel/Ciencia-de-Dados/master/Dados/Drugs.csv')\n",
        "\n",
        "data.head()"
      ],
      "execution_count": null,
      "outputs": [
        {
          "output_type": "execute_result",
          "data": {
            "text/html": [
              "<div>\n",
              "<style scoped>\n",
              "    .dataframe tbody tr th:only-of-type {\n",
              "        vertical-align: middle;\n",
              "    }\n",
              "\n",
              "    .dataframe tbody tr th {\n",
              "        vertical-align: top;\n",
              "    }\n",
              "\n",
              "    .dataframe thead th {\n",
              "        text-align: right;\n",
              "    }\n",
              "</style>\n",
              "<table border=\"1\" class=\"dataframe\">\n",
              "  <thead>\n",
              "    <tr style=\"text-align: right;\">\n",
              "      <th></th>\n",
              "      <th>date</th>\n",
              "      <th>value</th>\n",
              "    </tr>\n",
              "  </thead>\n",
              "  <tbody>\n",
              "    <tr>\n",
              "      <th>0</th>\n",
              "      <td>1991-07-01</td>\n",
              "      <td>3.526591</td>\n",
              "    </tr>\n",
              "    <tr>\n",
              "      <th>1</th>\n",
              "      <td>1991-08-01</td>\n",
              "      <td>3.180891</td>\n",
              "    </tr>\n",
              "    <tr>\n",
              "      <th>2</th>\n",
              "      <td>1991-09-01</td>\n",
              "      <td>3.252221</td>\n",
              "    </tr>\n",
              "    <tr>\n",
              "      <th>3</th>\n",
              "      <td>1991-10-01</td>\n",
              "      <td>3.611003</td>\n",
              "    </tr>\n",
              "    <tr>\n",
              "      <th>4</th>\n",
              "      <td>1991-11-01</td>\n",
              "      <td>3.565869</td>\n",
              "    </tr>\n",
              "  </tbody>\n",
              "</table>\n",
              "</div>"
            ],
            "text/plain": [
              "         date     value\n",
              "0  1991-07-01  3.526591\n",
              "1  1991-08-01  3.180891\n",
              "2  1991-09-01  3.252221\n",
              "3  1991-10-01  3.611003\n",
              "4  1991-11-01  3.565869"
            ]
          },
          "metadata": {
            "tags": []
          },
          "execution_count": 7
        }
      ]
    },
    {
      "cell_type": "code",
      "metadata": {
        "colab": {
          "base_uri": "https://localhost:8080/",
          "height": 279
        },
        "id": "b9Eo-QtaT3yP",
        "outputId": "a73a1d32-b7a3-4e5b-9f64-bcd1abf84907"
      },
      "source": [
        "# generate xticks for odd years\n",
        "date_to_plot = '-07-01'\n",
        "years = []\n",
        "for year in range(1991,2009,2):\n",
        "  years.append(str(year)+date_to_plot)\n",
        "\n",
        "\n",
        "plt.plot(data['date'], data['value'])\n",
        "plt.xlabel('Year')\n",
        "plt.ylabel('Value')\n",
        "plt.xticks(years, range(1991,2009,2))\n",
        "plt.grid(color='gray', linestyle='-', linewidth=0.3)\n",
        "\n",
        "plt.show()"
      ],
      "execution_count": null,
      "outputs": [
        {
          "output_type": "display_data",
          "data": {
            "image/png": "[encoded data removed]",
            "text/plain": [
              "<Figure size 432x288 with 1 Axes>"
            ]
          },
          "metadata": {
            "tags": [],
            "needs_background": "light"
          }
        }
      ]
    },
    {
      "cell_type": "code",
      "metadata": {
        "colab": {
          "base_uri": "https://localhost:8080/",
          "height": 292
        },
        "id": "FCEsz_WiVmpa",
        "outputId": "7b75faee-4513-4aa9-e46a-a8cb9f6cd696"
      },
      "source": [
        "# Taking a closer look at 2000 and 2001\n",
        "year_2000_01 = data[ (data['date'] >= '2000-01-01') & (data['date'] <= '2001-12-31') ]\n",
        "\n",
        "\n",
        "# generate xticks\n",
        "month_names = ['Jan', 'Feb', 'Mar', 'Apr', 'May', 'Jun', 'Jul', 'Aug', 'Sep', 'Oct', 'Nov', 'Dec']\n",
        "\n",
        "\n",
        "plt.plot(year_2000_01['date'], year_2000_01['value'], color='orange')\n",
        "plt.xlabel('2000 - 2001')\n",
        "plt.ylabel('Value')\n",
        "plt.xticks(year_2000_01['date'], month_names*2, rotation=60)\n",
        "plt.grid(color='gray', linestyle='-', linewidth=0.3)\n",
        "\n",
        "plt.show()"
      ],
      "execution_count": null,
      "outputs": [
        {
          "output_type": "display_data",
          "data": {
            "image/png": "[encoded data removed]",
            "text/plain": [
              "<Figure size 432x288 with 1 Axes>"
            ]
          },
          "metadata": {
            "tags": [],
            "needs_background": "light"
          }
        }
      ]
    }
  ]
}